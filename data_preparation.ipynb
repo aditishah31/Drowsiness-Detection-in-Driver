{
 "cells": [
  {
   "cell_type": "code",
   "execution_count": 5,
   "id": "b726c3e9",
   "metadata": {
    "scrolled": true
   },
   "outputs": [],
   "source": [
    "import os\n",
    "import glob\n",
    "import shutil\n",
    "import random"
   ]
  },
  {
   "cell_type": "code",
   "execution_count": 6,
   "id": "79661bcf",
   "metadata": {},
   "outputs": [],
   "source": [
    "raw_data = r'P:/prml_project/mrlEyes_2018_01'\n",
    "for dirpath, dirname, filename in os.walk(raw_data):\n",
    "    for file in [f for f in filename if f.endswith('.png')]:\n",
    "        if file.split('_')[4] == '0':\n",
    "            path=r'P:/prml_project/drowsieness_detection/data/train/closed'\n",
    "            if not os.path.exists(path):\n",
    "                os.makedirs(path)\n",
    "            shutil.copy(src=dirpath + '/' + file, dst= path)\n",
    "        elif file.split('_')[4] == '1':\n",
    "            path=r'P:/prml_project/drowsieness_detection/data/train/open'\n",
    "            if not os.path.exists(path):\n",
    "                os.makedirs(path)\n",
    "            shutil.copy(src=dirpath + '/' + file, dst= path)"
   ]
  },
  {
   "cell_type": "code",
   "execution_count": 7,
   "id": "9c5a98f6",
   "metadata": {},
   "outputs": [],
   "source": [
    "def create_test_closed(source, destination, percent):\n",
    "    '''\n",
    "    divides closed eyes images into given percent and moves from\n",
    "    source to destination.\n",
    "    \n",
    "    Arguments:\n",
    "    source(path): path of source directory\n",
    "    destination(path): path of destination directory\n",
    "    percent(float): percent of data to be divided(range: 0 to 1)\n",
    "    '''\n",
    "    path, dirs, files_closed = next(os.walk(source))\n",
    "    file_count_closed = len(files_closed)\n",
    "    percentage = file_count_closed * percent\n",
    "    to_move = random.sample(glob.glob(source + \"/*.png\"), int(percentage))\n",
    "\n",
    "    for f in enumerate(to_move):\n",
    "        if not os.path.exists(destination):\n",
    "            os.makedirs(destination)\n",
    "        shutil.move(f[1], destination)\n",
    "    print(f'moved {int(percentage)} images to the destination successfully.')\n",
    "    "
   ]
  },
  {
   "cell_type": "code",
   "execution_count": 8,
   "id": "8870a3e2",
   "metadata": {},
   "outputs": [],
   "source": [
    "def create_test_open(source, destination, percent):\n",
    "    '''\n",
    "    divides open eyes images into given percent and moves from\n",
    "    source to destination.\n",
    "    \n",
    "    Arguments:\n",
    "    source(path): path of source directory\n",
    "    destination(path): path of destination directory\n",
    "    percent(float): percent of data to be divided(range: 0 to 1)\n",
    "    '''\n",
    "    path, dirs, files_open = next(os.walk(source))\n",
    "    file_count_open = len(files_open)\n",
    "    percentage = file_count_open * percent\n",
    "    to_move = random.sample(glob.glob(source + \"/*.png\"), int(percentage))\n",
    "\n",
    "    for f in enumerate(to_move):\n",
    "        if not os.path.exists(destination):\n",
    "            os.makedirs(destination)\n",
    "        shutil.move(f[1], destination)\n",
    "    print(f'moved {int(percentage)} images to the destination successfully.')"
   ]
  },
  {
   "cell_type": "code",
   "execution_count": 9,
   "id": "58010ba3",
   "metadata": {},
   "outputs": [
    {
     "name": "stdout",
     "output_type": "stream",
     "text": [
      "moved 8389 images to the destination successfully.\n"
     ]
    }
   ],
   "source": [
    "create_test_closed(r'P:/prml_project/drowsieness_detection/data/train/closed', \n",
    "                    r'P:/prml_project/drowsieness_detection/data/test/closed', \n",
    "                    0.2)"
   ]
  },
  {
   "cell_type": "code",
   "execution_count": 10,
   "id": "7fc2d6dd",
   "metadata": {},
   "outputs": [
    {
     "name": "stdout",
     "output_type": "stream",
     "text": [
      "moved 8590 images to the destination successfully.\n"
     ]
    }
   ],
   "source": [
    "create_test_open(r'P:/prml_project/drowsieness_detection/data/train/open', \n",
    "                    r'P:/prml_project/drowsieness_detection/data/test/open', \n",
    "                    0.2)"
   ]
  },
  {
   "cell_type": "code",
   "execution_count": null,
   "id": "8f6c2fe2",
   "metadata": {},
   "outputs": [],
   "source": []
  }
 ],
 "metadata": {
  "kernelspec": {
   "display_name": "Python 3 (ipykernel)",
   "language": "python",
   "name": "python3"
  },
  "language_info": {
   "codemirror_mode": {
    "name": "ipython",
    "version": 3
   },
   "file_extension": ".py",
   "mimetype": "text/x-python",
   "name": "python",
   "nbconvert_exporter": "python",
   "pygments_lexer": "ipython3",
   "version": "3.11.7"
  }
 },
 "nbformat": 4,
 "nbformat_minor": 5
}
